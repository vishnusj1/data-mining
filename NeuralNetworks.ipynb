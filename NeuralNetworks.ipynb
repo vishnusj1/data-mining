{
 "cells": [
  {
   "cell_type": "code",
   "execution_count": null,
   "metadata": {
    "colab": {
     "base_uri": "https://localhost:8080/"
    },
    "id": "Yl9RwZw6AvEp",
    "outputId": "98c28ff9-4d0a-49ee-e322-7014fcfb3e06"
   },
   "outputs": [],
   "source": []
  },
  {
   "cell_type": "code",
   "execution_count": null,
   "metadata": {
    "id": "MjMsQZyqA2gW"
   },
   "outputs": [],
   "source": [
    "import pandas as pd\n",
    "import numpy as np\n",
    "from sklearn.model_selection import train_test_split\n",
    "from sklearn.metrics import classification_report, accuracy_score\n",
    "from sklearn.model_selection import GridSearchCV\n",
    "##from dm_tools import data_prep\n",
    "from sklearn.preprocessing import StandardScaler\n",
    "from sklearn.neural_network import MLPClassifier"
   ]
  },
  {
   "cell_type": "code",
   "execution_count": null,
   "metadata": {
    "id": "VuDpjiPrBA-l"
   },
   "outputs": [],
   "source": [
    "data = pd.read_csv('D2.csv')"
   ]
  },
  {
   "cell_type": "code",
   "execution_count": null,
   "metadata": {
    "colab": {
     "base_uri": "https://localhost:8080/"
    },
    "id": "htlqFnVKBEq8",
    "outputId": "cace8a24-6360-4599-a7d7-6c8a64700f5a"
   },
   "outputs": [],
   "source": [
    "data.info()"
   ]
  },
  {
   "cell_type": "code",
   "execution_count": null,
   "metadata": {},
   "outputs": [],
   "source": [
    "def data_prep():\n",
    "    # read the veteran dataset\n",
    "    df = pd.read_csv('D2.csv')\n",
    "    \n",
    "    # drop ID and the unused target variable\n",
    "    #df.drop(['ID', 'TargetD'], axis=1, inplace=True)\n",
    "    \n",
    "    # one-hot encoding\n",
    "    df = pd.get_dummies(df)\n",
    "    \n",
    "    y = df['covid19_positive']\n",
    "    X = df.drop(['covid19_positive'], axis=1)\n",
    "\n",
    "    # setting random state\n",
    "    rs = 10\n",
    "\n",
    "    X_mat = X.to_numpy()\n",
    "    X_train, X_test, y_train, y_test = train_test_split(X_mat, y, test_size=0.3, stratify=y, random_state=rs)\n",
    "\n",
    "    return df,X,y,X_train, X_test, y_train, y_test\n"
   ]
  },
  {
   "cell_type": "code",
   "execution_count": null,
   "metadata": {
    "id": "nBZAT8IfB2_d"
   },
   "outputs": [],
   "source": [
    "df,X,y,X_train, X_test, y_train, y_test = data_prep()\n",
    "\n",
    "scaler = StandardScaler()\n",
    "X_train = scaler.fit_transform(X_train, y_train)\n",
    "X_test = scaler.transform(X_test)"
   ]
  },
  {
   "cell_type": "code",
   "execution_count": null,
   "metadata": {
    "colab": {
     "base_uri": "https://localhost:8080/"
    },
    "id": "TIEEeOskB_Xf",
    "outputId": "6854a12d-03ea-489b-8957-0ed05629a5c3"
   },
   "outputs": [],
   "source": [
    "y"
   ]
  },
  {
   "cell_type": "code",
   "execution_count": null,
   "metadata": {
    "colab": {
     "base_uri": "https://localhost:8080/",
     "height": 424
    },
    "id": "asXVq0c6CAPd",
    "outputId": "8867ac4c-a518-4f3b-b27b-7302bbf203d9"
   },
   "outputs": [],
   "source": [
    "x"
   ]
  },
  {
   "cell_type": "code",
   "execution_count": null,
   "metadata": {
    "id": "IQ-sjULBDlkk"
   },
   "outputs": [],
   "source": [
    "x = pd.get_dummies(x)"
   ]
  },
  {
   "cell_type": "code",
   "execution_count": null,
   "metadata": {
    "colab": {
     "base_uri": "https://localhost:8080/",
     "height": 505
    },
    "id": "QJJPu05ADqw9",
    "outputId": "75cc2984-e2ed-43a2-9d30-f9bb4565bee5"
   },
   "outputs": [],
   "source": [
    "x"
   ]
  },
  {
   "cell_type": "code",
   "execution_count": null,
   "metadata": {
    "id": "JMfVAgxfCBL_"
   },
   "outputs": [],
   "source": [
    "rs = 10"
   ]
  },
  {
   "cell_type": "code",
   "execution_count": null,
   "metadata": {
    "id": "aXDsscfeCUZV"
   },
   "outputs": [],
   "source": []
  },
  {
   "cell_type": "code",
   "execution_count": null,
   "metadata": {
    "id": "Us15KAePCimf"
   },
   "outputs": [],
   "source": []
  },
  {
   "cell_type": "code",
   "execution_count": null,
   "metadata": {
    "colab": {
     "base_uri": "https://localhost:8080/"
    },
    "id": "KD7JUi0cCruV",
    "outputId": "ff8b15f6-33d0-44ff-ca33-60eed3213e40"
   },
   "outputs": [],
   "source": [
    "#default MLP model - no other finetuning except random state for consistency\n",
    "model_1 = MLPClassifier(random_state=rs)\n",
    "model_1.fit(X_train, y_train)\n",
    "print(\"Train accuracy:\", model_1.score(X_train, y_train))\n",
    "print(\"Test accuracy:\", model_1.score(X_test, y_test))\n",
    "y_pred = model_1.predict(X_test)\n",
    "print(classification_report(y_test, y_pred))\n",
    "print(model_1)"
   ]
  },
  {
   "cell_type": "code",
   "execution_count": null,
   "metadata": {
    "colab": {
     "base_uri": "https://localhost:8080/",
     "height": 35
    },
    "id": "k6Ws-Ly-Dyc2",
    "outputId": "97c0dec3-9496-4ae1-ab98-12920756e7e4"
   },
   "outputs": [],
   "source": [
    "model_1.activation"
   ]
  },
  {
   "cell_type": "code",
   "execution_count": null,
   "metadata": {
    "colab": {
     "base_uri": "https://localhost:8080/"
    },
    "id": "e9QkrUSgEoCF",
    "outputId": "42efb58b-48e4-4522-f739-686242465d80"
   },
   "outputs": [],
   "source": [
    "model_1.n_iter_"
   ]
  },
  {
   "cell_type": "code",
   "execution_count": null,
   "metadata": {
    "colab": {
     "base_uri": "https://localhost:8080/"
    },
    "id": "IyHYWwZfFZLH",
    "outputId": "c0848158-510b-48ea-fe97-50b7a477e3c9"
   },
   "outputs": [],
   "source": [
    "model_1.n_layers_"
   ]
  },
  {
   "cell_type": "code",
   "execution_count": null,
   "metadata": {
    "colab": {
     "base_uri": "https://localhost:8080/"
    },
    "id": "Ait07npxFgAe",
    "outputId": "f776a54e-ef03-4eb3-d711-582729448051"
   },
   "outputs": [],
   "source": [
    "model_1.n_outputs_"
   ]
  },
  {
   "cell_type": "code",
   "execution_count": null,
   "metadata": {
    "colab": {
     "base_uri": "https://localhost:8080/"
    },
    "id": "ShAaMD7MFmH9",
    "outputId": "7fe78d93-9e86-4429-f05b-98d42319d1fe"
   },
   "outputs": [],
   "source": [
    "model_1.n_features_in_"
   ]
  },
  {
   "cell_type": "markdown",
   "metadata": {
    "id": "DaULUkfZJMwH"
   },
   "source": [
    "GridSearchCV NN"
   ]
  },
  {
   "cell_type": "code",
   "execution_count": null,
   "metadata": {
    "colab": {
     "base_uri": "https://localhost:8080/"
    },
    "id": "y6VUMv1WFrmV",
    "outputId": "4c3c3c8f-a822-46a1-e481-d04f8d38b12e"
   },
   "outputs": [],
   "source": [
    "print(X_train.shape)"
   ]
  },
  {
   "cell_type": "code",
   "execution_count": null,
   "metadata": {
    "colab": {
     "base_uri": "https://localhost:8080/",
     "height": 172
    },
    "id": "h__o6k9BF44W",
    "outputId": "9a9d7c5a-6482-4f75-dd21-1c9e9ecea157"
   },
   "outputs": [],
   "source": [
    "params = {'hidden_layer_sizes': [(x,) for x in range(5, 57, 20)]}\n",
    "\n",
    "cv_1 = GridSearchCV(param_grid=params, estimator=MLPClassifier(random_state=rs),return_train_score=True, cv=10, n_jobs=-1)\n",
    "cv_1.fit(X_train, y_train)"
   ]
  },
  {
   "cell_type": "code",
   "execution_count": null,
   "metadata": {
    "colab": {
     "base_uri": "https://localhost:8080/"
    },
    "id": "j5OQY3KxJ4sU",
    "outputId": "c8d0b8ac-a92d-4c57-8113-6af68ac03599"
   },
   "outputs": [],
   "source": [
    "result_set = cv_1.cv_results_\n",
    "print(result_set)"
   ]
  },
  {
   "cell_type": "code",
   "execution_count": null,
   "metadata": {
    "colab": {
     "base_uri": "https://localhost:8080/",
     "height": 483
    },
    "id": "QIHuqzEXKB-3",
    "outputId": "3ad9a80f-df75-4da1-ba13-0acf0e6da09a"
   },
   "outputs": [],
   "source": [
    "import matplotlib.pyplot as plt\n",
    "train_result = result_set['split0_train_score']\n",
    "test_result = result_set['split0_test_score']\n",
    "print(\"Total number of models: \", len(test_result))\n",
    "# plot hidden layers hyperparameter values vs training and test accuracy score\n",
    "plt.plot(range(0, len(train_result)), train_result, 'b', range(0,len(test_result)), test_result, 'r')\n",
    "plt.xlabel('Hyperparameter Hidden_layers\\nBlue = training acc. Red = test acc.')\n",
    "plt.xticks(range(0, len(train_result)),range(5, 57, 20))\n",
    "plt.ylabel('score')\n",
    "plt.show()"
   ]
  },
  {
   "cell_type": "code",
   "execution_count": null,
   "metadata": {
    "colab": {
     "base_uri": "https://localhost:8080/",
     "height": 483
    },
    "id": "Ve-n0QHQKo31",
    "outputId": "80ccc4cb-91f6-4c5c-dc62-9ef039ecdf0b"
   },
   "outputs": [],
   "source": [
    "### Enter your code\n",
    "train_result = result_set['mean_train_score']\n",
    "test_result = result_set['mean_test_score']\n",
    "print(\"Total number of models: \", len(test_result))\n",
    "# plot hidden layers hyperparameter values vs training and test accuracy score\n",
    "plt.plot(range(0, len(train_result)), train_result, 'b', range(0,len(test_result)), test_result, 'r')\n",
    "plt.xlabel('Hyperparameter Hidden_layers\\nBlue = training acc. Red = test acc.')\n",
    "plt.xticks(range(0, len(train_result)),range(5, 57, 20))\n",
    "plt.ylabel('score')\n",
    "plt.show()"
   ]
  },
  {
   "cell_type": "code",
   "execution_count": null,
   "metadata": {
    "colab": {
     "base_uri": "https://localhost:8080/"
    },
    "id": "1G3wW-BvK7z-",
    "outputId": "66fd4578-10b0-4378-9b44-2e93bc866539"
   },
   "outputs": [],
   "source": [
    "print(\"Train accuracy:\", cv_1.score(X_train, y_train))\n",
    "print(\"Test accuracy:\", cv_1.score(X_test, y_test))\n",
    "\n",
    "y_pred = cv_1.predict(X_test)\n",
    "print(classification_report(y_test, y_pred))\n",
    "\n",
    "print(cv_1.best_params_)"
   ]
  },
  {
   "cell_type": "code",
   "execution_count": null,
   "metadata": {
    "colab": {
     "base_uri": "https://localhost:8080/"
    },
    "id": "4eXiHvrBLAie",
    "outputId": "1121b9d7-529c-42b4-e5ac-56ca7928cf1e"
   },
   "outputs": [],
   "source": [
    "# trying on smaller new parameters\n",
    "params = {'hidden_layer_sizes': [(3,), (5,), (7,), (9,), (11,), (13,), (15,), (17,), (19,), (21,), (23,), (25,), (27,)]}\n",
    "\n",
    "cv_2 = GridSearchCV(param_grid=params, estimator=MLPClassifier(random_state=rs), cv=10, n_jobs=-1)\n",
    "cv_2.fit(X_train, y_train)\n",
    "\n",
    "print(\"Train accuracy:\", cv_2.score(X_train, y_train))\n",
    "print(\"Test accuracy:\", cv_2.score(X_test, y_test))\n",
    "\n",
    "y_pred = cv_2.predict(X_test)\n",
    "print(classification_report(y_test, y_pred))\n",
    "\n",
    "print(cv_2.best_params_)"
   ]
  },
  {
   "cell_type": "code",
   "execution_count": null,
   "metadata": {
    "colab": {
     "base_uri": "https://localhost:8080/"
    },
    "id": "QEcxSQgrLi51",
    "outputId": "86ce1eea-bb32-494b-ad9e-68aa6b798bc9"
   },
   "outputs": [],
   "source": [
    "# trying on refine on parameters\n",
    "params = {'hidden_layer_sizes': [(1,), (2,), (3,), (4,)]}\n",
    "\n",
    "cv_2 = GridSearchCV(param_grid=params, estimator=MLPClassifier(random_state=rs), cv=10, n_jobs=-1)\n",
    "cv_2.fit(X_train, y_train)\n",
    "\n",
    "print(\"Train accuracy:\", cv_2.score(X_train, y_train))\n",
    "print(\"Test accuracy:\", cv_2.score(X_test, y_test))\n",
    "\n",
    "y_pred = cv_2.predict(X_test)\n",
    "print(classification_report(y_test, y_pred))\n",
    "\n",
    "print(cv_2.best_params_)"
   ]
  },
  {
   "cell_type": "code",
   "execution_count": null,
   "metadata": {
    "id": "2qvM7KNsMqXm"
   },
   "outputs": [],
   "source": [
    "#so 3 is the right number here"
   ]
  },
  {
   "cell_type": "code",
   "execution_count": null,
   "metadata": {
    "colab": {
     "base_uri": "https://localhost:8080/"
    },
    "id": "wPVO1UM8N00w",
    "outputId": "6a30e60e-e44c-4700-8edd-eeb9f7344f80"
   },
   "outputs": [],
   "source": [
    "params = {'hidden_layer_sizes': [(1,), (2,), (3,), (4,), (5,), (7,), (9,)], 'alpha': [0.01,0.001, 0.0001, 0.00001]}\n",
    "\n",
    "cv_3 = GridSearchCV(param_grid=params, estimator=MLPClassifier(random_state=rs), cv=10, n_jobs=-1)\n",
    "cv_3.fit(X_train, y_train)\n",
    "\n",
    "print(\"Train accuracy:\", cv_3.score(X_train, y_train))\n",
    "print(\"Test accuracy:\", cv_3.score(X_test, y_test))\n",
    "\n",
    "y_pred = cv_3.predict(X_test)\n",
    "print(classification_report(y_test, y_pred))\n",
    "\n",
    "print(cv_3.best_params_)"
   ]
  },
  {
   "cell_type": "code",
   "execution_count": null,
   "metadata": {
    "colab": {
     "base_uri": "https://localhost:8080/"
    },
    "id": "NsFP48GaOFaL",
    "outputId": "e588446a-d94f-4eb7-c3ce-57a38847090b"
   },
   "outputs": [],
   "source": [
    "#increasing the max iterations because the model did not converge\n",
    "\n",
    "params = {'hidden_layer_sizes': [(1,), (2,), (3,), (4,), (5,), (7,), (9,)], 'alpha': [0.01,0.001, 0.0001, 0.00001]}\n",
    "\n",
    "cv_3 = GridSearchCV(param_grid=params, estimator=MLPClassifier(max_iter = 700, random_state=rs), cv=10, n_jobs=-1)\n",
    "cv_3.fit(X_train, y_train)\n",
    "\n",
    "print(\"Train accuracy:\", cv_3.score(X_train, y_train))\n",
    "print(\"Test accuracy:\", cv_3.score(X_test, y_test))\n",
    "\n",
    "y_pred = cv_3.predict(X_test)\n",
    "print(classification_report(y_test, y_pred))\n",
    "\n",
    "print(cv_3.best_params_)"
   ]
  },
  {
   "cell_type": "code",
   "execution_count": null,
   "metadata": {
    "colab": {
     "base_uri": "https://localhost:8080/"
    },
    "id": "Pl0vb_mAREU5",
    "outputId": "6d7fe932-0155-40e1-eafd-38e1c454f329"
   },
   "outputs": [],
   "source": [
    "cv_3.best_params_"
   ]
  },
  {
   "cell_type": "code",
   "execution_count": null,
   "metadata": {
    "id": "LKG7BUVZN49w"
   },
   "outputs": [],
   "source": []
  },
  {
   "cell_type": "code",
   "execution_count": null,
   "metadata": {
    "id": "MY4bahDFN2E9"
   },
   "outputs": [],
   "source": []
  },
  {
   "cell_type": "code",
   "execution_count": null,
   "metadata": {
    "colab": {
     "base_uri": "https://localhost:8080/"
    },
    "id": "mwrVrypjTvp0",
    "outputId": "381c8319-68f5-450e-a119-1109217b696f"
   },
   "outputs": [],
   "source": [
    "import pickle\n",
    "with open('DT.pickle', 'rb') as f:\n",
    "    dt_best,roc_index_dt_cv, fpr_dt_cv, tpr_dt_cv = pickle.load(f)\n",
    "dt_best.fit(X_train, y_train)\n",
    "\n",
    "print(dt_best.best_params_)"
   ]
  },
  {
   "cell_type": "code",
   "execution_count": null,
   "metadata": {
    "id": "5BBHzmj_NV_y"
   },
   "outputs": [],
   "source": [
    "def analyse_feature_importance(dm_model, feature_names, n_to_display=50):\n",
    "    # grab feature importances from the model\n",
    "    importances = dm_model.feature_importances_\n",
    "    \n",
    "    # sort them out in descending order\n",
    "    indices = np.argsort(importances\n",
    "                        )\n",
    "    indices = np.flip(indices, axis=0)\n",
    "\n",
    "    # limit to 20 features, you can leave this out to print out everything\n",
    "    indices = indices[:n_to_display]\n",
    "\n",
    "    for i in indices:\n",
    "        print(i,feature_names[i], ':', importances[i])"
   ]
  },
  {
   "cell_type": "code",
   "execution_count": null,
   "metadata": {},
   "outputs": [],
   "source": [
    "##from dm_tools import analyse_feature_importance\n",
    "\n",
    "analyse_feature_importance(dt_best.best_estimator_, X.columns)"
   ]
  },
  {
   "cell_type": "code",
   "execution_count": null,
   "metadata": {},
   "outputs": [],
   "source": [
    "dt_best.best_estimator_"
   ]
  },
  {
   "cell_type": "code",
   "execution_count": null,
   "metadata": {},
   "outputs": [],
   "source": [
    "from sklearn.feature_selection import SelectFromModel\n",
    "\n",
    "selectmodel = SelectFromModel(dt_best.best_estimator_, prefit=True)\n",
    "X_train_sel_model = selectmodel.transform(X_train)\n",
    "X_test_sel_model = selectmodel.transform(X_test)\n",
    "\n",
    "print(X_train_sel_model.shape)"
   ]
  },
  {
   "cell_type": "code",
   "execution_count": null,
   "metadata": {},
   "outputs": [],
   "source": [
    "X_train_sel_model_df = pd.DataFrame(X_train_sel_model)"
   ]
  },
  {
   "cell_type": "code",
   "execution_count": null,
   "metadata": {},
   "outputs": [],
   "source": [
    "X_train_sel_model_df"
   ]
  },
  {
   "cell_type": "raw",
   "metadata": {},
   "source": [
    "selectmodedtype"
   ]
  },
  {
   "cell_type": "code",
   "execution_count": null,
   "metadata": {},
   "outputs": [],
   "source": [
    "feature_mask = selectmodel.get_support()\n",
    "selected_feature_indices = np.where(feature_mask)[0]\n",
    "print(\"selected features - \", selected_feature_indices)"
   ]
  },
  {
   "cell_type": "code",
   "execution_count": null,
   "metadata": {},
   "outputs": [],
   "source": [
    "df2,X2,y2,X_train2, X_test2, y_train2, y_test2 = data_prep()"
   ]
  },
  {
   "cell_type": "code",
   "execution_count": null,
   "metadata": {},
   "outputs": [],
   "source": [
    "X_train2[0]"
   ]
  },
  {
   "cell_type": "code",
   "execution_count": null,
   "metadata": {},
   "outputs": [],
   "source": [
    "selectmodel"
   ]
  },
  {
   "cell_type": "code",
   "execution_count": null,
   "metadata": {},
   "outputs": [],
   "source": [
    "X_train_sel_model"
   ]
  },
  {
   "cell_type": "code",
   "execution_count": 173,
   "metadata": {},
   "outputs": [
    {
     "name": "stdout",
     "output_type": "stream",
     "text": [
      "Train accuracy: 0.7259761515080664\n",
      "Test accuracy: 0.7190398254228041\n",
      "              precision    recall  f1-score   support\n",
      "\n",
      "           0       0.73      0.82      0.77      1070\n",
      "           1       0.70      0.58      0.63       763\n",
      "\n",
      "    accuracy                           0.72      1833\n",
      "   macro avg       0.71      0.70      0.70      1833\n",
      "weighted avg       0.72      0.72      0.71      1833\n",
      "\n",
      "{'alpha': 1e-05, 'hidden_layer_sizes': (9,)}\n"
     ]
    }
   ],
   "source": [
    "params = {'hidden_layer_sizes': [(1,), (2,), (3,), (4,), (5,), (7,), (9,)], 'alpha': [0.01,0.001, 0.0001, 0.00001]}\n",
    "\n",
    "cv_sel_model = GridSearchCV(param_grid=params, estimator=MLPClassifier(max_iter = 400, random_state=rs), cv=10, n_jobs=-1)\n",
    "cv_sel_model.fit(X_train_sel_model, y_train)\n",
    "\n",
    "print(\"Train accuracy:\", cv_sel_model.score(X_train_sel_model, y_train))\n",
    "print(\"Test accuracy:\", cv_sel_model.score(X_test_sel_model, y_test))\n",
    "\n",
    "y_pred = cv_sel_model.predict(X_test_sel_model)\n",
    "print(classification_report(y_test, y_pred))\n",
    "\n",
    "print(cv_sel_model.best_params_)"
   ]
  },
  {
   "cell_type": "code",
   "execution_count": 174,
   "metadata": {},
   "outputs": [
    {
     "name": "stdout",
     "output_type": "stream",
     "text": [
      "ROC index on test for NN_default: 0.7197462059504416\n",
      "ROC index on test for NN with gridsearch 1: 0.7403926948469519\n",
      "ROC index on test for NN with gridsearch 2: 0.7556240124447277\n",
      "ROC index on test for NN with gridsearch 3: 0.7693230117220514\n",
      "ROC index on test for NN with feature selection (model selection) and gridsearch: 0.7623510246077339\n"
     ]
    }
   ],
   "source": [
    "from sklearn.metrics import roc_auc_score\n",
    "\n",
    "y_pred_proba_nn_1 = model_1.predict_proba(X_test)\n",
    "#y_pred_proba_nn_2 = model_2.predict_proba(X_test)\n",
    "y_pred_proba_cv_1 = cv_1.predict_proba(X_test)\n",
    "y_pred_proba_cv_2 = cv_2.predict_proba(X_test)\n",
    "y_pred_proba_cv_3 = cv_3.predict_proba(X_test)\n",
    "#y_pred_proba_rfe_cv = rfe_cv.predict_proba(X_test_rfe)\n",
    "y_pred_proba_cv_sel_model = cv_sel_model.predict_proba(X_test_sel_model)\n",
    "\n",
    "\n",
    "roc_index_nn_1 = roc_auc_score(y_test, y_pred_proba_nn_1[:, 1])\n",
    "#roc_index_nn_2 = roc_auc_score(y_test, y_pred_proba_nn_2[:, 1])\n",
    "roc_index_cv_1 = roc_auc_score(y_test, y_pred_proba_cv_1[:, 1])\n",
    "roc_index_cv_2 = roc_auc_score(y_test, y_pred_proba_cv_2[:, 1])\n",
    "roc_index_cv_3 = roc_auc_score(y_test, y_pred_proba_cv_3[:, 1])\n",
    "#roc_index_rfe_cv = roc_auc_score(y_test, y_pred_proba_rfe_cv[:, 1])\n",
    "roc_index_cv_sel_model = roc_auc_score(y_test, y_pred_proba_cv_sel_model[:, 1])\n",
    "\n",
    "\n",
    "print(\"ROC index on test for NN_default:\", roc_index_nn_1)\n",
    "#print(\"ROC index on test for NN with relu:\", roc_index_nn_2)\n",
    "print(\"ROC index on test for NN with gridsearch 1:\", roc_index_cv_1)\n",
    "print(\"ROC index on test for NN with gridsearch 2:\", roc_index_cv_2)\n",
    "print(\"ROC index on test for NN with gridsearch 3:\", roc_index_cv_3)\n",
    "#print(\"ROC index on test for NN with feature selection and gridsearch:\", roc_index_rfe_cv)\n",
    "print(\"ROC index on test for NN with feature selection (model selection) and gridsearch:\", roc_index_cv_sel_model)\n",
    "\n",
    "from sklearn.metrics import roc_curve\n",
    "\n",
    "fpr_nn_1, tpr_nn_1, thresholds_nn_1 = roc_curve(y_test, y_pred_proba_nn_1[:,1])\n",
    "#fpr_nn_2, tpr_nn_2, thresholds_nn_2 = roc_curve(y_test, y_pred_proba_nn_2[:,1])\n",
    "fpr_cv_1, tpr_cv_1, thresholds_cv_1 = roc_curve(y_test, y_pred_proba_cv_1[:,1])\n",
    "fpr_cv_2, tpr_cv_2, thresholds_cv_2 = roc_curve(y_test, y_pred_proba_cv_2[:,1])\n",
    "fpr_cv_3, tpr_cv_3, thresholds_cv_3 = roc_curve(y_test, y_pred_proba_cv_3[:,1])\n",
    "#fpr_rfe_cv, tpr_rfe_cv, thresholds_rfe_cv = roc_curve(y_test, y_pred_proba_rfe_cv[:,1])\n",
    "fpr_cv_sel_model, tpr_cv_sel_model, thresholds_cv_sel_model = roc_curve(y_test, y_pred_proba_cv_sel_model[:,1])"
   ]
  },
  {
   "cell_type": "code",
   "execution_count": 175,
   "metadata": {},
   "outputs": [
    {
     "data": {
      "image/png": "[encoded data removed]",
      "text/plain": [
       "<Figure size 640x480 with 1 Axes>"
      ]
     },
     "metadata": {},
     "output_type": "display_data"
    }
   ],
   "source": [
    "import matplotlib.pyplot as plt\n",
    "\n",
    "plt.plot(fpr_nn_1, tpr_nn_1, label='NN_default {:.3f}'.format(roc_index_nn_1), color='red', lw=0.5)\n",
    "#plt.plot(fpr_nn_2, tpr_nn_2, label='NN with relu {:.3f}'.format(roc_index_nn_2), color='green', lw=0.5)\n",
    "plt.plot(fpr_cv_1, tpr_cv_1, label='NN cv_1 {:.3f}'.format(roc_index_cv_1), color='blue', lw=0.5)\n",
    "plt.plot(fpr_cv_2, tpr_cv_2, label='NN cv_2 {:.3f}'.format(roc_index_cv_2), color='yellow', lw=0.5)\n",
    "plt.plot(fpr_cv_3, tpr_cv_3, label='NN cv_3 {:.3f}'.format(roc_index_cv_3), color='cyan', lw=0.5)\n",
    "#plt.plot(fpr_rfe_cv, tpr_rfe_cv, label='NN rfe_cv {:.3f}'.format(roc_index_rfe_cv), color='gray', lw=0.5)\n",
    "plt.plot(fpr_cv_sel_model, tpr_cv_sel_model, label='NN with cv_sel_model {:.3f}'.format(roc_index_cv_sel_model), color='black', lw=0.5)\n",
    "\n",
    "\n",
    "plt.plot([0, 1], [0, 1], color='navy', lw=0.5, linestyle='--')\n",
    "plt.xlim([0.0, 1.0])\n",
    "plt.ylim([0.0, 1.0])\n",
    "plt.xlabel('False Positive Rate')\n",
    "plt.ylabel('True Positive Rate')\n",
    "plt.title('Receiver operating characteristic example')\n",
    "plt.legend(loc=\"lower right\")\n",
    "plt.show()"
   ]
  },
  {
   "cell_type": "code",
   "execution_count": 176,
   "metadata": {},
   "outputs": [
    {
     "name": "stderr",
     "output_type": "stream",
     "text": [
      "C:\\Users\\n11226757\\AppData\\Local\\anaconda3\\lib\\site-packages\\sklearn\\base.py:299: UserWarning: Trying to unpickle estimator DecisionTreeClassifier from version 1.2.2 when using version 1.2.1. This might lead to breaking code or invalid results. Use at your own risk. For more info please refer to:\n",
      "https://scikit-learn.org/stable/model_persistence.html#security-maintainability-limitations\n",
      "  warnings.warn(\n",
      "C:\\Users\\n11226757\\AppData\\Local\\anaconda3\\lib\\site-packages\\sklearn\\base.py:299: UserWarning: Trying to unpickle estimator GridSearchCV from version 1.2.2 when using version 1.2.1. This might lead to breaking code or invalid results. Use at your own risk. For more info please refer to:\n",
      "https://scikit-learn.org/stable/model_persistence.html#security-maintainability-limitations\n",
      "  warnings.warn(\n"
     ]
    },
    {
     "data": {
      "image/png": "[encoded data removed]",
      "text/plain": [
       "<Figure size 640x480 with 1 Axes>"
      ]
     },
     "metadata": {},
     "output_type": "display_data"
    }
   ],
   "source": [
    "### Enter your code\n",
    "import pickle\n",
    "with open('DT.pickle', 'rb') as f:\n",
    "    dt_best,roc_index_dt_cv, fpr_dt_cv, tpr_dt_cv = pickle.load(f)\n",
    "#with open('LR.pickle', 'rb') as f:\n",
    " #   lr_best,roc_index_lr_cv, fpr_lr_cv, tpr_lr_cv = pickle.load(f)   \n",
    "    \n",
    "\n",
    "plt.plot(fpr_dt_cv, tpr_dt_cv, label='DT {:.3f}'.format(roc_index_dt_cv), color='red', lw=0.5)\n",
    "#plt.plot(fpr_lr_cv, tpr_lr_cv, label='LR {:.3f}'.format(roc_index_lr_cv), color='green', lw=0.5)\n",
    "plt.plot(fpr_cv_sel_model, tpr_cv_sel_model, label='NN with cv_sel_model {:.3f}'.format(roc_index_cv_sel_model), color='blue', lw=0.5)\n",
    "\n",
    "plt.plot([0, 1], [0, 1], color='navy', lw=0.5, linestyle='--')\n",
    "plt.xlim([0.0, 1.0])\n",
    "plt.ylim([0.0, 1.0])\n",
    "plt.xlabel('False Positive Rate')\n",
    "plt.ylabel('True Positive Rate')\n",
    "plt.title('Receiver operating characteristic example')\n",
    "plt.legend(loc=\"lower right\")\n",
    "plt.show() "
   ]
  },
  {
   "cell_type": "code",
   "execution_count": null,
   "metadata": {},
   "outputs": [],
   "source": []
  }
 ],
 "metadata": {
  "accelerator": "GPU",
  "colab": {
   "gpuType": "T4",
   "provenance": []
  },
  "kernelspec": {
   "display_name": "Python 3 (ipykernel)",
   "language": "python",
   "name": "python3"
  },
  "language_info": {
   "codemirror_mode": {
    "name": "ipython",
    "version": 3
   },
   "file_extension": ".py",
   "mimetype": "text/x-python",
   "name": "python",
   "nbconvert_exporter": "python",
   "pygments_lexer": "ipython3",
   "version": "3.10.9"
  }
 },
 "nbformat": 4,
 "nbformat_minor": 1
}
